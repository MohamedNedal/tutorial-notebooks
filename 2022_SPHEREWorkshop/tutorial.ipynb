{
 "cells": [
  {
   "cell_type": "markdown",
   "id": "392367fb-86ea-48c3-8f8b-f958b0c59621",
   "metadata": {
    "tags": []
   },
   "source": [
    "# **Solar Data Analysis with SunPy**\n",
    "\n",
    "![sunpy logo](./images/sunpy_logo.png)\n",
    "\n",
    "## SPHERE Workshop / 11 July 2022\n",
    "\n",
    "### *Will Barnes* (AU/NASA GSFC) *on behalf of the SunPy Community*\n",
    "### *with many thanks to: Albert Shih (NASA GSFC), Stuart Mumford (Aperio Software), Laura Hayes (ESA ESTEC), David Stansby (UCL)*"
   ]
  },
  {
   "cell_type": "markdown",
   "id": "8a2815b3-f707-43c4-8e4c-17cb9feeb010",
   "metadata": {},
   "source": [
    "## What is SunPy?"
   ]
  },
  {
   "cell_type": "markdown",
   "id": "6fd15938-fed2-4255-a5ef-2b31a1f035a4",
   "metadata": {},
   "source": [
    "![sunpy core summary](./images/sunpy-summary-slide.png)"
   ]
  },
  {
   "cell_type": "markdown",
   "id": "80357c69-4549-4237-86a9-9de1171a19d9",
   "metadata": {},
   "source": [
    "![sunpy ecosystem summary](./images/sunpy-ecosystem-slide.png)"
   ]
  },
  {
   "cell_type": "markdown",
   "id": "425c8bb5-084a-4253-bb23-36c5d95e0c4e",
   "metadata": {},
   "source": [
    "In this tutorial, we will be looking at observations from a flare that occurred on [February 15 2011](https://hesperia.gsfc.nasa.gov/rhessi_extras/flare_images/2011/02/15/20110215_0127_0227/hsi_20110215_0127_0227.html). We'll divide this into three sections:\n",
    "\n",
    "1. Searching for and Downloading Data\n",
    "2. Loading Data into `Map` and `TimeSeries`\n",
    "3. Combining Data through Reprojection"
   ]
  },
  {
   "cell_type": "markdown",
   "id": "86f49f09-cf9b-47a0-8625-6cfacdd44155",
   "metadata": {
    "tags": []
   },
   "source": [
    "### Additional Resources\n",
    "\n",
    "Below are a few helpful links for finding out more about SunPy, including our webpage, documentation, and our Matrix channel:\n",
    "\n",
    "* [sunpy.org](https://sunpy.org/)\n",
    "* [Example Gallery](https://docs.sunpy.org/en/stable/generated/gallery/index.html)\n",
    "* [Installation Instructions](https://docs.sunpy.org/en/stable/installation.html)\n",
    "* [Tutorial Notebooks from 2021 AAS/SPD SunPy Workshop](https://github.com/sunpy/aas-2021-workshop)\n",
    "* [Tutorial Notebooks from 2022 PyHC Summer School](https://github.com/heliophysicsPy/summer-school/tree/main/sunpy-tutorial)\n",
    "* [List of Affiliated Packages](https://sunpy.org/project/affiliated.html)\n",
    "* [Matrix Chat](https://openastronomy.element.io/#/room/#sunpy:openastronomy.org)\n",
    "* [OpenAstronomy Discourse](https://community.openastronomy.org/c/sunpy/5)"
   ]
  },
  {
   "cell_type": "code",
   "execution_count": null,
   "id": "e59e8a16-64cb-48e2-8894-a75c1920a73f",
   "metadata": {},
   "outputs": [],
   "source": [
    "import astropy.units as u\n",
    "from astropy.coordinates import SkyCoord\n",
    "from astropy.visualization import ImageNormalize, AsymmetricPercentileInterval\n",
    "import astropy.wcs\n",
    "from reproject.mosaicking import reproject_and_coadd\n",
    "from reproject import reproject_interp\n",
    "import numpy as np\n",
    "import matplotlib\n",
    "import matplotlib.pyplot as plt\n",
    "from mpl_toolkits.axes_grid1 import make_axes_locatable\n",
    "from IPython.display import HTML\n",
    "\n",
    "import sunpy.map\n",
    "import sunpy.timeseries\n",
    "from sunpy.net import Fido, attrs as a\n",
    "from sunkit_instruments.rhessi import imagecube2map"
   ]
  },
  {
   "cell_type": "markdown",
   "id": "f12a36aa-705a-4916-b11f-503462df79df",
   "metadata": {
    "tags": []
   },
   "source": [
    "## 1. Searching for and Downloading Data"
   ]
  },
  {
   "cell_type": "markdown",
   "id": "b1d99b4a-4e74-451d-8f2f-7287c3f96f2e",
   "metadata": {
    "slideshow": {
     "slide_type": "slide"
    }
   },
   "source": [
    "* `Fido`is a unified interface for searching and downloading solar physics data.\n",
    "* Search and accesses multiple instruments and all available data providers in a single query.\n",
    "* In `sunpy`, `Fido` offers access to data available through: VSO, JSOC, HEK, HELIO, individual data providers from web accessible sources (http, ftp, etc)\n",
    "* `clients` defined in `sunpy` or in other packages provide access to many sources of data"
   ]
  },
  {
   "cell_type": "code",
   "execution_count": null,
   "id": "17faf8a3-2310-4e21-a8ec-53278266c23a",
   "metadata": {},
   "outputs": [],
   "source": [
    "Fido"
   ]
  },
  {
   "cell_type": "code",
   "execution_count": null,
   "id": "04ce52f9-586f-4512-9619-83ffb9eecc8e",
   "metadata": {},
   "outputs": [],
   "source": [
    "a.Instrument"
   ]
  },
  {
   "cell_type": "markdown",
   "id": "93fee08b-7f2e-4312-b1be-2d37724786d0",
   "metadata": {},
   "source": [
    "Define our search interval to be consistent with the interval of the RHESSI image cube"
   ]
  },
  {
   "cell_type": "code",
   "execution_count": null,
   "id": "e2d3879d-6f6f-4eb2-9277-2c63a49e4b23",
   "metadata": {},
   "outputs": [],
   "source": [
    "flare_start = \"2011-02-15T01:27\"\n",
    "flare_end = \"2011-02-15T02:27\""
   ]
  },
  {
   "cell_type": "markdown",
   "id": "03e20bde-5436-4da9-9d37-b574f5d2b81b",
   "metadata": {},
   "source": [
    "The `near=...` keyword chooses a single observation in a given interval closest to a given time"
   ]
  },
  {
   "cell_type": "code",
   "execution_count": null,
   "id": "8dcb1e69-7ebf-4548-a8f5-35648b1cdb31",
   "metadata": {},
   "outputs": [],
   "source": [
    "flare_time = a.Time(flare_start, flare_end, near='2011-02-15T01:55')"
   ]
  },
  {
   "cell_type": "code",
   "execution_count": null,
   "id": "36b175a8-43c5-44dc-b208-fea38ef4161c",
   "metadata": {},
   "outputs": [],
   "source": [
    "aia_query = flare_time & a.Wavelength(193*u.angstrom) & a.Instrument.aia"
   ]
  },
  {
   "cell_type": "code",
   "execution_count": null,
   "id": "cc63dc70-5116-42d7-8ef0-5ab1e0d4bdc9",
   "metadata": {},
   "outputs": [],
   "source": [
    "Fido.search(aia_query)"
   ]
  },
  {
   "cell_type": "markdown",
   "id": "5969d84b-caf8-4086-9edd-8b7f626aef02",
   "metadata": {},
   "source": [
    "We can also logically combine queries for multiple instruments at once.\n",
    "What if we also wanted to look for the STEREO and GOES XRS data during this same interval?"
   ]
  },
  {
   "cell_type": "code",
   "execution_count": null,
   "id": "151fe1c0-93ab-4488-9a07-589f7116fc2b",
   "metadata": {},
   "outputs": [],
   "source": [
    "aia_query = a.Instrument.aia & a.Wavelength(193*u.angstrom)\n",
    "secchi_query = a.Instrument.secchi & (a.Source('STEREO_A') | a.Source('STEREO_B')) & a.Wavelength(195*u.Angstrom)"
   ]
  },
  {
   "cell_type": "code",
   "execution_count": null,
   "id": "eb887c11-9688-49f1-a535-483dd72af058",
   "metadata": {},
   "outputs": [],
   "source": [
    "goes_query = a.Instrument.xrs & a.goes.SatelliteNumber(15)"
   ]
  },
  {
   "cell_type": "code",
   "execution_count": null,
   "id": "9bda0390-1f20-4055-835a-e73074d03780",
   "metadata": {},
   "outputs": [],
   "source": [
    "combined_query = Fido.search(flare_time, aia_query | secchi_query | goes_query )"
   ]
  },
  {
   "cell_type": "code",
   "execution_count": null,
   "id": "9e81e12a-b834-436c-8a93-fff3e3d9505f",
   "metadata": {},
   "outputs": [],
   "source": [
    "combined_query"
   ]
  },
  {
   "cell_type": "markdown",
   "id": "b64c5be3-d9ff-48c2-8e9d-6b7e0b351763",
   "metadata": {},
   "source": [
    "We can easily make a single download request for all of our data by passing in our combined query for AIA, STEREO, and XRS."
   ]
  },
  {
   "cell_type": "code",
   "execution_count": null,
   "id": "613b9748-a916-4188-aee9-79164cb3ba79",
   "metadata": {},
   "outputs": [],
   "source": [
    "files = Fido.fetch(combined_query, path='data/{source}/{instrument}')"
   ]
  },
  {
   "cell_type": "code",
   "execution_count": null,
   "id": "6fa379f2-6285-4617-ae5c-c936160d3998",
   "metadata": {},
   "outputs": [],
   "source": [
    "files"
   ]
  },
  {
   "cell_type": "markdown",
   "id": "7ba2a98f-6121-437a-ba20-3f9093241c33",
   "metadata": {},
   "source": [
    "## 2. Data Structures"
   ]
  },
  {
   "cell_type": "markdown",
   "id": "71bc25c6-79f1-4767-951f-b0ea0faedcc0",
   "metadata": {
    "tags": []
   },
   "source": [
    "### Loading Image Data with `Map`"
   ]
  },
  {
   "cell_type": "markdown",
   "id": "50f83cac-0073-4107-ba93-078f66bc22d0",
   "metadata": {},
   "source": [
    "We create a `sunpy.map.Map` object by passing in the FITS file for a single AIA, STEREO A, and STEREO B."
   ]
  },
  {
   "cell_type": "code",
   "execution_count": null,
   "id": "a00f5af3-6b53-4c48-b3f1-86b05ade7606",
   "metadata": {},
   "outputs": [],
   "source": [
    "m_aia = sunpy.map.Map('data/SDO/AIA/aia_lev1_193a_2011_02_15t01_54_57_63z_image_lev1.fits')\n",
    "m_stereo_a = sunpy.map.Map('data/STEREO_A/SECCHI/20110215_015530_n4eua.fts')\n",
    "m_stereo_b = sunpy.map.Map('data/STEREO_B/SECCHI/20110215_015530_n4eub.fts')"
   ]
  },
  {
   "cell_type": "markdown",
   "id": "2feb19f5-2862-43a8-9297-de97ab266688",
   "metadata": {},
   "source": [
    "We can easily visualize a map after loading it using the quicklook functionality."
   ]
  },
  {
   "cell_type": "code",
   "execution_count": null,
   "id": "6c95e066-84d4-4480-b794-aaf43618e2eb",
   "metadata": {},
   "outputs": [],
   "source": [
    "m_stereo_a"
   ]
  },
  {
   "cell_type": "markdown",
   "id": "c513a8b2-f738-4033-a683-66f6c5969927",
   "metadata": {},
   "source": [
    "### Attributes of `Map`"
   ]
  },
  {
   "cell_type": "markdown",
   "id": "09d928a3-ca8a-4475-9bdb-420e622bea5e",
   "metadata": {},
   "source": [
    "`Map` provides a common interface to most 2D imaging solar datasets and provides several useful pieces of metadata.\n",
    "`Map` is a container for holding your data and metadata (usually from the FITS header) together.\n",
    "\n",
    "The `.meta` and `.data` attributes provide access to the metadata and underlying array of image data, respectively."
   ]
  },
  {
   "cell_type": "code",
   "execution_count": null,
   "id": "e1881a21-c66c-4549-a6cf-12b67f2a1f15",
   "metadata": {},
   "outputs": [],
   "source": [
    "m_aia.data"
   ]
  },
  {
   "cell_type": "code",
   "execution_count": null,
   "id": "2df6242b-268f-4b3c-bc85-c4a19f29e8a1",
   "metadata": {},
   "outputs": [],
   "source": [
    "m_aia.meta"
   ]
  },
  {
   "cell_type": "markdown",
   "id": "18b292ab-4021-474b-a523-2d08a97e4bb5",
   "metadata": {
    "tags": []
   },
   "source": [
    "However, this metadata can be terse, non-homogeneous, and sometimes difficult to parse.\n",
    "`Map` provides several attributes derived from the underlying raw metadata that expose a uniform interface to the metadata for each map."
   ]
  },
  {
   "cell_type": "code",
   "execution_count": null,
   "id": "c4c6f1e8-34cf-48bf-9392-95d732d48381",
   "metadata": {},
   "outputs": [],
   "source": [
    "m_aia.date"
   ]
  },
  {
   "cell_type": "code",
   "execution_count": null,
   "id": "2883ac8f-422e-440d-a850-fb1a410197c3",
   "metadata": {},
   "outputs": [],
   "source": [
    "m_stereo_a.date"
   ]
  },
  {
   "cell_type": "code",
   "execution_count": null,
   "id": "0ca5b286-7814-4b76-a2ca-f82ffe896ebb",
   "metadata": {},
   "outputs": [],
   "source": [
    "m_aia.wavelength"
   ]
  },
  {
   "cell_type": "code",
   "execution_count": null,
   "id": "ac672a2b-e30e-4aca-aa6e-6187bcfd781c",
   "metadata": {},
   "outputs": [],
   "source": [
    "m_aia.rsun_obs"
   ]
  },
  {
   "cell_type": "code",
   "execution_count": null,
   "id": "e817dc60-6f0a-4e74-a665-8496cc755792",
   "metadata": {},
   "outputs": [],
   "source": [
    "m_stereo_a.rsun_obs"
   ]
  },
  {
   "cell_type": "code",
   "execution_count": null,
   "id": "9048ba72-c758-4409-92b8-300f8e29f934",
   "metadata": {},
   "outputs": [],
   "source": [
    "m_aia.processing_level"
   ]
  },
  {
   "cell_type": "code",
   "execution_count": null,
   "id": "d2e72c64-c5b3-4eb3-a397-2176dede9269",
   "metadata": {},
   "outputs": [],
   "source": [
    "m_stereo_a.instrument"
   ]
  },
  {
   "cell_type": "markdown",
   "id": "eeb32092-95f8-4c19-9b7d-05e7ea1c5ece",
   "metadata": {},
   "source": [
    "Each `Map` object also holds the unit system that the image data is in, expressed in terms of an `astropy.unit.Unit` object."
   ]
  },
  {
   "cell_type": "code",
   "execution_count": null,
   "id": "5b469b64-c0f8-4465-bee9-f4360f531636",
   "metadata": {},
   "outputs": [],
   "source": [
    "m_stereo_a.unit"
   ]
  },
  {
   "cell_type": "markdown",
   "id": "0981f907-f175-4aff-8eab-97a63d3aba26",
   "metadata": {},
   "source": [
    "### Coordinate Information\n",
    "\n",
    "Each `Map` also exposes information about which coordinate system the image was taken in, including the location of the spacecraft that recorded that observation.\n",
    "\n",
    "`sunpy` leverages and extends the powerful `astropy` coordinate framework."
   ]
  },
  {
   "cell_type": "markdown",
   "id": "03926190-883d-4727-adb4-dceafcb07194",
   "metadata": {},
   "source": [
    "For each `Map`, we can easily access what *coordinate frame* the observation cooresponds to."
   ]
  },
  {
   "cell_type": "code",
   "execution_count": null,
   "id": "5638e0bd-4991-4f63-bf19-c5548d6d0abc",
   "metadata": {},
   "outputs": [],
   "source": [
    "m_aia.coordinate_frame"
   ]
  },
  {
   "cell_type": "markdown",
   "id": "9c6cbba4-1635-41e5-8eb0-8a1f2d2d571b",
   "metadata": {},
   "source": [
    "Similarly, we can look at the location of the observer (as defined by the position of the satellite at the time of the observation)."
   ]
  },
  {
   "cell_type": "code",
   "execution_count": null,
   "id": "473c81d4-30ad-4fcf-8908-4a39dd79d11d",
   "metadata": {},
   "outputs": [],
   "source": [
    "m_aia.observer_coordinate"
   ]
  },
  {
   "cell_type": "code",
   "execution_count": null,
   "id": "c60d5a1b-3faa-4cd3-9790-20ad812a6c74",
   "metadata": {},
   "outputs": [],
   "source": [
    "m_stereo_a.observer_coordinate"
   ]
  },
  {
   "cell_type": "code",
   "execution_count": null,
   "id": "16c95725-3121-4cb7-a1f7-b97176ef8fb4",
   "metadata": {},
   "outputs": [],
   "source": [
    "m_stereo_b.observer_coordinate"
   ]
  },
  {
   "cell_type": "markdown",
   "id": "1550a66a-e184-4547-aa2d-62874cf7acfa",
   "metadata": {},
   "source": [
    "We can plot these observer coordinates to show the relative position, in heliographic longitude, of each spacecraft.\n",
    "Additionally, the [SolarMACH tool](https://solar-mach.github.io/) provides a web interface for building similar visualizations."
   ]
  },
  {
   "cell_type": "code",
   "execution_count": null,
   "id": "9bd55d87-ff4c-4271-8fb3-b6966f807927",
   "metadata": {
    "tags": []
   },
   "outputs": [],
   "source": [
    "fig = plt.figure(figsize=(8, 8))\n",
    "ax = plt.subplot(projection='polar')\n",
    "\n",
    "# Plot the Sun\n",
    "ax.plot(0, 0, marker='o', markersize=20, label='Sun', color='yellow')\n",
    "\n",
    "# Plot the satellite locations\n",
    "for m in [m_aia, m_stereo_a, m_stereo_b]:\n",
    "    sat = m.observatory\n",
    "    coord = m.observer_coordinate\n",
    "    ax.plot(coord.lon.to('rad'), coord.radius.to(u.AU), 'o', label=sat)\n",
    "\n",
    "ax.set_theta_zero_location(\"S\")\n",
    "ax.set_rlabel_position(90)\n",
    "ax.set_rlim(0, 1.3)\n",
    "ax.legend()"
   ]
  },
  {
   "cell_type": "markdown",
   "id": "65369c1e-8168-48df-b358-914f2d1ff8d1",
   "metadata": {},
   "source": [
    "We can also use this coordinate information to overplot the flare position in each map.\n",
    "We can easily locate the approximate flare position in the AIA image."
   ]
  },
  {
   "cell_type": "code",
   "execution_count": null,
   "id": "19e6d7b2-c8b4-4c31-b336-ee8bcdcedeb9",
   "metadata": {},
   "outputs": [],
   "source": [
    "m_aia.plot()"
   ]
  },
  {
   "cell_type": "code",
   "execution_count": null,
   "id": "089b8097-7f22-4be0-b49d-a940b499e216",
   "metadata": {},
   "outputs": [],
   "source": [
    "flare_location = SkyCoord(Tx=200*u.arcsec, Ty=-220*u.arcsec, frame=m_aia.coordinate_frame)"
   ]
  },
  {
   "cell_type": "markdown",
   "id": "ed105228-e990-461e-a410-44bca5ecf5f7",
   "metadata": {},
   "source": [
    "And transform it to the coordinate frame of either STEREO satellite"
   ]
  },
  {
   "cell_type": "code",
   "execution_count": null,
   "id": "865fa189-4ce0-4709-a714-faf19519f26e",
   "metadata": {},
   "outputs": [],
   "source": [
    "flare_location.transform_to(m_stereo_a.coordinate_frame)"
   ]
  },
  {
   "cell_type": "code",
   "execution_count": null,
   "id": "50a08ad1-9668-45f2-a405-65e2ae1df251",
   "metadata": {},
   "outputs": [],
   "source": [
    "flare_location.transform_to(m_stereo_b.coordinate_frame)"
   ]
  },
  {
   "cell_type": "markdown",
   "id": "7c044277-bd7c-4314-885b-99aa4a311833",
   "metadata": {},
   "source": [
    "Note that we can use the `plot_coord` command to overlay this coordinate on each `Map` and perform this transformation automatically before plotting"
   ]
  },
  {
   "cell_type": "code",
   "execution_count": null,
   "id": "e48236e7-8e3b-44a2-93bf-015d0f4c7420",
   "metadata": {},
   "outputs": [],
   "source": [
    "for i, m in enumerate([m_aia, m_stereo_a,]):\n",
    "    fig = plt.figure(figsize=(5,5))\n",
    "    ax = fig.add_subplot(111, projection=m)\n",
    "    im = m.plot(axes=ax, clip_interval=(10,99.9)*u.percent)\n",
    "    # Manually plot flare location\n",
    "    ax.plot_coord(flare_location, ls=' ', marker='x', color='C3', markersize=20)"
   ]
  },
  {
   "cell_type": "markdown",
   "id": "9eefb7dc-0aad-4158-9a60-aaf8ad005876",
   "metadata": {
    "tags": []
   },
   "source": [
    "### Visualization"
   ]
  },
  {
   "cell_type": "markdown",
   "id": "90e7bc65-42e8-43ef-a9cd-9d2672a837a1",
   "metadata": {},
   "source": [
    "`Map` provides some additional \"helpers\" for plotting the associated image data with the correct projection based on the WCS.\n",
    "At a minimum, this can be accomplished through the `.plot()` method."
   ]
  },
  {
   "cell_type": "code",
   "execution_count": null,
   "id": "9c936c75-b4bc-4513-8d57-a865472c6ddb",
   "metadata": {},
   "outputs": [],
   "source": [
    "m_aia.plot()\n",
    "plt.colorbar()"
   ]
  },
  {
   "cell_type": "markdown",
   "id": "978f27c0-db35-45af-b376-48bfbe0b09fe",
   "metadata": {},
   "source": [
    "This \"automagically\" creates a figure and an axis (with a projection based on the WCS of the map) and plots our map on that axis, with a colormap and normalization tailored for the specific map source.\n",
    "All of this visualization is built on top of `matplotlib` and the `WCSAxes` capabilities provided by `astropy` that we saw demoed earlier today.\n",
    "However, as you can see, the resulting default colorbar is not particularly useful.\n",
    "\n",
    "Because all of this plotting capability is built on top of `matplotlib`, we can easily customize the various components of our plot."
   ]
  },
  {
   "cell_type": "markdown",
   "id": "7bca7790-6844-400e-b361-df1b6260c8b9",
   "metadata": {},
   "source": [
    "We can explictly create the axis and add the projection for the map if we want more fine-grained control over labels and titles.\n",
    "We can also easily adjust the limits on our colorbar using the `clip_interval` key."
   ]
  },
  {
   "cell_type": "code",
   "execution_count": null,
   "id": "50e2f06e-798a-4db3-9986-93f6c5428033",
   "metadata": {},
   "outputs": [],
   "source": [
    "fig = plt.figure(figsize=(8,8))\n",
    "ax = fig.add_subplot(111, projection=m_aia)\n",
    "im = m_aia.plot(axes=ax, clip_interval=(1,99.9)*u.percent)\n",
    "m_aia.draw_grid(axes=ax, lw=1, alpha=1)\n",
    "ax.set_title(r'A nicer AIA 193 $\\mathrm{\\AA}$ Plot')\n",
    "ax.coords[0].set_axislabel('HPC Lon')\n",
    "ax.coords[1].set_axislabel('HPC Lat')\n",
    "fig.colorbar(im)"
   ]
  },
  {
   "cell_type": "markdown",
   "id": "488b26ab-b4e8-4232-9033-85f97f283643",
   "metadata": {},
   "source": [
    "Using `matplotlib` combined with `WCSAxes`, we can build more complex, publication-quality visualizations.\n",
    "\n",
    "(**NOTE:** It is not necessary to fully understand every intricacy of the plotting code below during the course of the tutorial. This is merely to show how `Map.plot` can be be used to make more complex plots.)"
   ]
  },
  {
   "cell_type": "code",
   "execution_count": null,
   "id": "4b8e5b6b-17db-440c-9cfb-27d6e8aac0ba",
   "metadata": {},
   "outputs": [],
   "source": [
    "fig = plt.figure(figsize=(15,5))\n",
    "\n",
    "for i, m in enumerate([m_aia, m_stereo_a, m_stereo_b]):\n",
    "    # Create the axis with the appropriate projection\n",
    "    ax = fig.add_subplot(1, 3, i+1, projection=m)\n",
    "    \n",
    "    # Add the plot to the axis\n",
    "    im = m.plot(axes=ax, annotate=False, clip_interval=(10,99.9)*u.percent)\n",
    "    \n",
    "    # Make the HPC grid lines visible\n",
    "    ax.coords.grid(alpha=1, ls='-')\n",
    "    \n",
    "    # Adjust the labels and ticks\n",
    "    if i > 0:\n",
    "        ax.coords[1].set_auto_axislabel(False)\n",
    "    else:\n",
    "        ax.coords[1].set_axislabel('Solar-Y')\n",
    "    ax.coords[0].set_axislabel('Solar-X')\n",
    "    ax.coords[1].set_ticklabel(rotation=90,)\n",
    "    \n",
    "    # Put a label on each plot\n",
    "    ax.text(m.data.shape[1]//2, m.data.shape[0]*.97, m.observatory,\n",
    "            color='w',\n",
    "            horizontalalignment='center',\n",
    "            verticalalignment='top',\n",
    "            fontsize=14)\n",
    "    \n",
    "    # Add a colorbar to the top of each plot\n",
    "    divider = make_axes_locatable(ax)\n",
    "    cax = divider.append_axes('top', size='4%', pad=0.1, axes_class=matplotlib.axes.Axes)\n",
    "    cb = fig.colorbar(im, cax=cax, orientation='horizontal')\n",
    "    cax.xaxis.set_ticks_position(\"top\")\n",
    "    cax.xaxis.set_tick_params(direction='in',)\n",
    "    cb.locator = matplotlib.ticker.MaxNLocator(nbins=3)\n",
    "    cb.update_ticks()\n",
    "    \n",
    "plt.subplots_adjust(wspace=0.1)"
   ]
  },
  {
   "cell_type": "markdown",
   "id": "b88e628c-1330-418a-a1ca-e2aebbc58109",
   "metadata": {},
   "source": [
    "### Animating RHESSI Image Cubes with `MapSequence`"
   ]
  },
  {
   "cell_type": "markdown",
   "id": "013b03c7-25dd-42eb-8a44-55ef4f611f89",
   "metadata": {},
   "source": [
    "In addition, the `MapSequence` container provides a data container for holding multiple maps, such as in the case where you have a sequence of maps taken at successive times.\n",
    "\n",
    "Let's download the CLEAN image cube for this particular flare from the RHESSI flare archive: https://hesperia.gsfc.nasa.gov/rhessi_extras/flare_images/2011/02/15/20110215_0127_0227/hsi_20110215_0127_0227.html.\n",
    "We can then use the [`sunkit-instruments`](https://docs.sunpy.org/projects/sunkit-instruments/en/stable/index.html) package to load this data into a `MapSequence`."
   ]
  },
  {
   "cell_type": "code",
   "execution_count": null,
   "id": "d7b2e141-c20f-4441-8eef-cb27012501f3",
   "metadata": {},
   "outputs": [],
   "source": [
    "rhessi_cube = imagecube2map('data/hsi_imagecube_clean_20110215_0127_41tx5e.fits')"
   ]
  },
  {
   "cell_type": "code",
   "execution_count": null,
   "id": "3702f0ff-7fc7-48ae-85ff-e7ef0576c424",
   "metadata": {},
   "outputs": [],
   "source": [
    "rhessi_cube.keys()"
   ]
  },
  {
   "cell_type": "markdown",
   "id": "e0310474-c4a4-49d9-a0b7-8bb59866553a",
   "metadata": {},
   "source": [
    "The `MapSequence` can be indexed to return the individual `Map` objects at each time step."
   ]
  },
  {
   "cell_type": "code",
   "execution_count": null,
   "id": "aef5611e-9882-44a9-a285-d68b1554f0f5",
   "metadata": {},
   "outputs": [],
   "source": [
    "rhessi_cube['6-12 keV'][20].peek()"
   ]
  },
  {
   "cell_type": "markdown",
   "id": "5b0d58ad-ce79-43e7-abf9-fdd283f36bc8",
   "metadata": {},
   "source": [
    "One of the most useful features of a `MapSequence` is the ability to create coordinate-aware visualizations of our stack of `Map` objects.\n",
    "To do this, we'll first create a a colormap normalization appropriate to the range of the data for every map in our stack."
   ]
  },
  {
   "cell_type": "code",
   "execution_count": null,
   "id": "77115de9-513f-425e-8280-d0465d3d3449",
   "metadata": {},
   "outputs": [],
   "source": [
    "vmax = np.max(rhessi_cube['25-50 keV'].as_array())\n",
    "norm=ImageNormalize(vmin=0, vmax=vmax) "
   ]
  },
  {
   "cell_type": "markdown",
   "id": "8075167c-7816-467b-9860-3df868ed58f9",
   "metadata": {},
   "source": [
    "The `plot` method on our `MapSequence` object now returns an animation rather than a simple static plot."
   ]
  },
  {
   "cell_type": "code",
   "execution_count": null,
   "id": "777eca8b-720a-44e8-98cb-f47e621a6c5c",
   "metadata": {},
   "outputs": [],
   "source": [
    "plt.figure(figsize=(10,10))\n",
    "rhessi_ani = rhessi_cube['25-50 keV'].plot(norm=norm)"
   ]
  },
  {
   "cell_type": "code",
   "execution_count": null,
   "id": "24365237-0856-4c10-b7be-d7786263a13f",
   "metadata": {
    "tags": []
   },
   "outputs": [],
   "source": [
    "HTML(rhessi_ani.to_jshtml())"
   ]
  },
  {
   "cell_type": "markdown",
   "id": "7ea7d2e9-aacf-490d-9dc1-549d414b4f23",
   "metadata": {},
   "source": [
    "# Rotating Images"
   ]
  },
  {
   "cell_type": "markdown",
   "id": "f1f98fa5-e6d5-40a1-bd63-07d4cb7fd0ef",
   "metadata": {},
   "source": [
    "The `.rotate` method applies a rotation in the image plane, i.e. about an axis out of the page. \n",
    "In the case where we do not specify an angle (or rotation matrix), the image will be rotated such that the world and pixel axes are aligned.\n",
    "In the case of an image in helioprojective coordinate system, this means that solar north will be aligned with the y-like pixel axis of the image."
   ]
  },
  {
   "cell_type": "code",
   "execution_count": null,
   "id": "c1815d91-7c2e-4e52-bf81-f83dbeeacfab",
   "metadata": {},
   "outputs": [],
   "source": [
    "m_stereo_a_rot = m_stereo_a.rotate()"
   ]
  },
  {
   "cell_type": "code",
   "execution_count": null,
   "id": "220aed50-4bbf-4915-b8e1-d947dd1016d1",
   "metadata": {},
   "outputs": [],
   "source": [
    "fig = plt.figure(figsize=(11,5))\n",
    "ax = fig.add_subplot(121,projection=m_stereo_a)\n",
    "m_stereo_a.plot(axes=ax, vmin=800, vmax=5e3)\n",
    "ax.coords.grid(alpha=1, ls='-')\n",
    "ax = fig.add_subplot(122,projection=m_stereo_a_rot)\n",
    "m_stereo_a_rot.plot(axes=ax, vmin=800, vmax=5e3)\n",
    "ax.coords.grid(alpha=1, ls='-')"
   ]
  },
  {
   "cell_type": "markdown",
   "id": "1da0ce9c-7c33-4fb0-9cad-644cd2978827",
   "metadata": {},
   "source": [
    "This rotation is also reflected in the updated metadata of the rotated image."
   ]
  },
  {
   "cell_type": "code",
   "execution_count": null,
   "id": "2df17018-e1b4-4100-96be-693b943d19fd",
   "metadata": {},
   "outputs": [],
   "source": [
    "m_stereo_a.rotation_matrix"
   ]
  },
  {
   "cell_type": "code",
   "execution_count": null,
   "id": "bede571a-017c-4de4-a3ac-86ae350d1219",
   "metadata": {},
   "outputs": [],
   "source": [
    "m_stereo_a_rot.rotation_matrix"
   ]
  },
  {
   "cell_type": "markdown",
   "id": "a3ce81d4-64c6-4d91-b986-c33ac3935f73",
   "metadata": {},
   "source": [
    "### Cropping Images with `submap`"
   ]
  },
  {
   "cell_type": "markdown",
   "id": "aad0cd58-465d-45ba-9ccd-071339bb52e6",
   "metadata": {},
   "source": [
    "We commonly want to pare down our full field-of-view to a particular region of interest.\n",
    "With a map, we can do this using the `submap` method."
   ]
  },
  {
   "cell_type": "code",
   "execution_count": null,
   "id": "4ac0846b-7f49-492c-94dd-f8684f315ea0",
   "metadata": {},
   "outputs": [],
   "source": [
    "m_stereo_a_rot_cropped = m_stereo_a_rot.submap(SkyCoord(-1500*u.arcsec, -1500*u.arcsec, frame=m_stereo_a_rot.coordinate_frame),\n",
    "                                               width=3000*u.arcsec, height=3000*u.arcsec)"
   ]
  },
  {
   "cell_type": "code",
   "execution_count": null,
   "id": "1ff8e6b5-15c5-4a49-9e12-a9fb379b64eb",
   "metadata": {},
   "outputs": [],
   "source": [
    "m_stereo_a_rot_cropped.plot(vmin=800, vmax=5e3)"
   ]
  },
  {
   "cell_type": "markdown",
   "id": "dd0741a4-91ed-43d5-8ebe-bb1ab9cc3de3",
   "metadata": {},
   "source": [
    "Additionally, we can use the corners of our RHESSI maps to crop our full-disk AIA image to the FOV that RHESSI observed."
   ]
  },
  {
   "cell_type": "code",
   "execution_count": null,
   "id": "e4711add-9518-45e2-951f-dd1fd597b32c",
   "metadata": {},
   "outputs": [],
   "source": [
    "m_aia_cropped = m_aia.submap(rhessi_cube['6-12 keV'][0].bottom_left_coord,\n",
    "                             top_right=rhessi_cube['6-12 keV'][0].top_right_coord)"
   ]
  },
  {
   "cell_type": "code",
   "execution_count": null,
   "id": "8d57051f-fce9-4305-b0a6-46af8950ce50",
   "metadata": {},
   "outputs": [],
   "source": [
    "m_aia_cropped.plot()"
   ]
  },
  {
   "cell_type": "markdown",
   "id": "7c9a3fd0-c8a4-4580-a7f1-dce9502cb4bd",
   "metadata": {},
   "source": [
    "We can then lay the contours from one of our RHESSI images on top of our cropped AIA data."
   ]
  },
  {
   "cell_type": "code",
   "execution_count": null,
   "id": "3ff14260-5360-413d-a011-df188707ba91",
   "metadata": {},
   "outputs": [],
   "source": [
    "rhessi_cube['6-12 keV'][19].date"
   ]
  },
  {
   "cell_type": "code",
   "execution_count": null,
   "id": "e1ffe01e-aee8-400b-971e-d877d3a5daa1",
   "metadata": {},
   "outputs": [],
   "source": [
    "fig = plt.figure(figsize=(8,8))\n",
    "ax = fig.add_subplot(111, projection=m_aia_cropped)\n",
    "m_aia_cropped.plot(axes=ax)\n",
    "rhessi_cube['6-12 keV'][19].draw_contours(np.arange(5,100,5)*u.percent, axes=ax, alpha=0.75, cmap='viridis')"
   ]
  },
  {
   "cell_type": "markdown",
   "id": "b9c93642-6cd5-420d-b0eb-d0311fdecc49",
   "metadata": {},
   "source": [
    "## The `Timeseries` Data Structure"
   ]
  },
  {
   "cell_type": "markdown",
   "id": "86b943d1-fb15-4c0f-a0db-fe1d9cf0f014",
   "metadata": {},
   "source": [
    "In addition to `Map` for 2D image data, `sunpy` also provides a container for tabular time series data through the `TimeSeries` class.\n",
    "We can create a `TimeSeries` object in a very similar manner to how we create a `Map` object.\n",
    "\n",
    "Let's look at the corresponding GOES XRS data that we downloaded in the previous notebook."
   ]
  },
  {
   "cell_type": "code",
   "execution_count": null,
   "id": "f55f2478-fa68-465b-bae7-abd38ed28173",
   "metadata": {},
   "outputs": [],
   "source": [
    "ts = sunpy.timeseries.TimeSeries('data/GOES/XRS/sci_gxrs-l2-irrad_g15_d20110215_v0-0-0.nc')"
   ]
  },
  {
   "cell_type": "code",
   "execution_count": null,
   "id": "80656795-04d2-458c-85f7-0b993e5b8cb7",
   "metadata": {},
   "outputs": [],
   "source": [
    "ts"
   ]
  },
  {
   "cell_type": "markdown",
   "id": "a5fe86f1-9d85-41a5-abc6-0800b45d2385",
   "metadata": {},
   "source": [
    "As with `Map`, `TimeSeries` acts as a container for the data + metadata. We can access each component individually."
   ]
  },
  {
   "cell_type": "code",
   "execution_count": null,
   "id": "f940bb63-f945-4199-828f-265a451ab367",
   "metadata": {},
   "outputs": [],
   "source": [
    "ts.meta"
   ]
  },
  {
   "cell_type": "markdown",
   "id": "f2b80577-d5d4-49c0-bc67-b6c01ea9163e",
   "metadata": {},
   "source": [
    "The `TimeSeries` object can also be converted to other formats like a `pandas` `DataFrame`"
   ]
  },
  {
   "cell_type": "code",
   "execution_count": null,
   "id": "c5955d1a-584f-4a34-bf39-1aabcbd19ef2",
   "metadata": {},
   "outputs": [],
   "source": [
    "ts.to_dataframe()"
   ]
  },
  {
   "cell_type": "markdown",
   "id": "d8d8c683-5191-4992-b430-fe1744fd3fa9",
   "metadata": {},
   "source": [
    "There are also a number of attributes on each `TimeSeries` derived from the data/metadata."
   ]
  },
  {
   "cell_type": "code",
   "execution_count": null,
   "id": "7fbd1a79-b67d-4512-8edc-3de30a140126",
   "metadata": {},
   "outputs": [],
   "source": [
    "ts.columns"
   ]
  },
  {
   "cell_type": "code",
   "execution_count": null,
   "id": "38799773-4223-400d-871c-db312926d426",
   "metadata": {},
   "outputs": [],
   "source": [
    "ts.observatory"
   ]
  },
  {
   "cell_type": "code",
   "execution_count": null,
   "id": "18d96680-b99c-4468-8c07-5a18df5df9e0",
   "metadata": {},
   "outputs": [],
   "source": [
    "ts.source"
   ]
  },
  {
   "cell_type": "code",
   "execution_count": null,
   "id": "1647f4ef-f5d2-42a0-9a6f-3df31e497fe6",
   "metadata": {},
   "outputs": [],
   "source": [
    "ts.units"
   ]
  },
  {
   "cell_type": "markdown",
   "id": "a883290d-04e4-439c-8947-15ba15783aa0",
   "metadata": {},
   "source": [
    "### Slicing and Visualizing `TimeSeries`"
   ]
  },
  {
   "cell_type": "markdown",
   "id": "41245012-f161-4802-a93c-1e7adce9709d",
   "metadata": {},
   "source": [
    "Note that this intensity `TimeSeries` spans 24 h of observation time and recall that we are only interested in the ~1 h interval corresponding to the flare.\n",
    "We can truncate our timeseries around the times of interest."
   ]
  },
  {
   "cell_type": "code",
   "execution_count": null,
   "id": "17c37d94-7361-41cf-b353-32be8073f97a",
   "metadata": {},
   "outputs": [],
   "source": [
    "ts_flare = ts.truncate(flare_start, flare_end)"
   ]
  },
  {
   "cell_type": "markdown",
   "id": "7b55aa46-cfcf-4ae4-b7db-40e2927a6b9e",
   "metadata": {},
   "source": [
    "And then do a quicklook on our lightcurve."
   ]
  },
  {
   "cell_type": "code",
   "execution_count": null,
   "id": "bf6b93b1-4ea8-4f0d-aacd-a10422a79eda",
   "metadata": {},
   "outputs": [],
   "source": [
    "ts_flare"
   ]
  },
  {
   "cell_type": "markdown",
   "id": "77631be6-e504-4790-9fdb-8b8777c361e1",
   "metadata": {},
   "source": [
    "## Combining Image Data from Multiple Observers"
   ]
  },
  {
   "cell_type": "markdown",
   "id": "050e67eb-2e5f-4a85-9baf-1ab5d620a3e6",
   "metadata": {},
   "source": [
    "When combining these images all three need to assume the same radius of\n",
    "the Sun for the data. The AIA images specify a slightly different value\n",
    "than the IAU 2015 constant. To avoid coordinate transformation issues we\n",
    "reset this here.\n",
    "\n"
   ]
  },
  {
   "cell_type": "code",
   "execution_count": null,
   "id": "9dee2a5d-7512-410c-9cbb-31c0560316d8",
   "metadata": {
    "collapsed": false,
    "jupyter": {
     "outputs_hidden": false
    }
   },
   "outputs": [],
   "source": [
    "m_stereo_a.meta['rsun_ref'] = sunpy.sun.constants.radius.to_value(u.m)\n",
    "m_stereo_b.meta['rsun_ref'] = sunpy.sun.constants.radius.to_value(u.m)\n",
    "m_aia.meta['rsun_ref'] = sunpy.sun.constants.radius.to_value(u.m)"
   ]
  },
  {
   "cell_type": "markdown",
   "id": "9f3fff6f-2131-4d26-865a-0431f604414a",
   "metadata": {},
   "source": [
    "The next step is to calculate the output coordinate system for the combined\n",
    "map. We select a heliographic Stonyhurst frame, and a Plate Carree (CAR)\n",
    "projection, and generate a header using `sunpy.map.make_fitswcs_header` and\n",
    "then construct a World Coordinate System (WCS) object for that header.\n",
    "\n"
   ]
  },
  {
   "cell_type": "code",
   "execution_count": null,
   "id": "96134232-730c-4b05-86d8-c99ed3a56889",
   "metadata": {
    "collapsed": false,
    "jupyter": {
     "outputs_hidden": false
    }
   },
   "outputs": [],
   "source": [
    "shape_out = (360, 720)  # This is set deliberately low to reduce memory consumption\n",
    "reference_coordinate = SkyCoord(0, 0, unit=u.deg, frame=\"heliographic_stonyhurst\", obstime=m_aia.date)\n",
    "scale = [360 / shape_out[1], 180 / shape_out[0]] * u.deg / u.pix"
   ]
  },
  {
   "cell_type": "code",
   "execution_count": null,
   "id": "5a5f8375-11c7-4ce2-be01-daf921263d41",
   "metadata": {},
   "outputs": [],
   "source": [
    "header = sunpy.map.make_fitswcs_header(shape_out,\n",
    "                                       reference_coordinate,\n",
    "                                       scale=scale,\n",
    "                                       wavelength=m_aia.wavelength,\n",
    "                                       projection_code=\"CAR\")\n",
    "out_wcs = astropy.wcs.WCS(header)"
   ]
  },
  {
   "cell_type": "markdown",
   "id": "3473f8a6-a854-4947-bbf1-a0d1c1a83358",
   "metadata": {},
   "source": [
    "Next we call the `reproject.mosaicking.reproject_and_coadd` function, which\n",
    "takes a list of maps, and the desired output WCS and array shape.\n",
    "\n"
   ]
  },
  {
   "cell_type": "code",
   "execution_count": null,
   "id": "55d094b0-7506-4060-89be-4d9910b264a4",
   "metadata": {},
   "outputs": [],
   "source": [
    "maps = [m_aia, m_stereo_a, m_stereo_b]"
   ]
  },
  {
   "cell_type": "code",
   "execution_count": null,
   "id": "2df9b059-e387-4cd4-a253-49c69c51fd45",
   "metadata": {
    "collapsed": false,
    "jupyter": {
     "outputs_hidden": false
    }
   },
   "outputs": [],
   "source": [
    "array,_ = reproject_and_coadd(maps, out_wcs, shape_out, reproject_function=reproject_interp)"
   ]
  },
  {
   "cell_type": "code",
   "execution_count": null,
   "id": "ef698ba2-41a6-4cc8-bae9-3b468c14ef35",
   "metadata": {
    "collapsed": false,
    "jupyter": {
     "outputs_hidden": false
    }
   },
   "outputs": [],
   "source": [
    "combined_map = sunpy.map.Map(array, header)"
   ]
  },
  {
   "cell_type": "code",
   "execution_count": null,
   "id": "1c75bb08-5535-4409-a78e-1c41ce8cae79",
   "metadata": {},
   "outputs": [],
   "source": [
    "plt.figure(figsize=(10,5))\n",
    "combined_map.plot(cmap='euvi195', norm=m_aia.plot_settings['norm'])"
   ]
  },
  {
   "cell_type": "markdown",
   "id": "c4af6127-276b-4014-9275-c2e2e0ae40dd",
   "metadata": {
    "tags": []
   },
   "source": [
    "As you can see this leaves a little to be desired. To reduce the obvious warping towards the points which are close to the limb in the input images, we can define a set of weights to use when co-adding the output arrays.\n",
    "To reduce this warping we want to calculate an set of weights which highly weight points close to the center of the disk in the input image.\n",
    "\n",
    "We can achieve this by using sunpy's coordinate framework. First we calculate all the world coordinates for all the pixels in all three input maps."
   ]
  },
  {
   "cell_type": "code",
   "execution_count": null,
   "id": "1059e1db-99de-421a-a0f8-c513c805ac65",
   "metadata": {
    "collapsed": false,
    "jupyter": {
     "outputs_hidden": false
    }
   },
   "outputs": [],
   "source": [
    "coordinates = tuple(map(sunpy.map.all_coordinates_from_map, maps))"
   ]
  },
  {
   "cell_type": "markdown",
   "id": "553d93e8-bee2-4365-b195-6e4d62d6893e",
   "metadata": {},
   "source": [
    "To get a weighting which is high close to disk centre and low towards\n",
    "the limb, we can use the Z coordinate in the heliocentric frame. This\n",
    "coordinate is the distance of the sphere from the centre of the Sun\n",
    "towards the observer.\n",
    "\n"
   ]
  },
  {
   "cell_type": "code",
   "execution_count": null,
   "id": "7e4a38c3-c093-4f8e-b6f5-85e3dd8cb66a",
   "metadata": {
    "collapsed": false,
    "jupyter": {
     "outputs_hidden": false
    }
   },
   "outputs": [],
   "source": [
    "weights = [coord.transform_to(\"heliocentric\").z.value for coord in coordinates]"
   ]
  },
  {
   "cell_type": "markdown",
   "id": "3e018747-40e0-4c99-8c7b-baa1f3aaf7ca",
   "metadata": {},
   "source": [
    "These weights are good, but they are better if the ramp down is a little\n",
    "smoother, and more biased to the centre. Also we can scale them to the\n",
    "range 0-1, and set any off disk (NaN) regions to 0.\n",
    "\n"
   ]
  },
  {
   "cell_type": "code",
   "execution_count": null,
   "id": "17bda161-d839-4fcd-8223-d3a337d5b35e",
   "metadata": {
    "collapsed": false,
    "jupyter": {
     "outputs_hidden": false
    }
   },
   "outputs": [],
   "source": [
    "weights = [(w / np.nanmax(w)) ** 1.5 for w in weights]\n",
    "for w in weights:\n",
    "    w[np.isnan(w)] = 0"
   ]
  },
  {
   "cell_type": "code",
   "execution_count": null,
   "id": "77030b4f-f647-4ca8-be75-e7a3fb2c6b2d",
   "metadata": {},
   "outputs": [],
   "source": [
    "plt.imshow(weights[0])\n",
    "plt.colorbar()"
   ]
  },
  {
   "cell_type": "markdown",
   "id": "17bf5c36-a140-4152-a0e3-422dd4abb34b",
   "metadata": {},
   "source": [
    "Now we can rerun the reprojection. This time we also set\n",
    "``match_background=True`` which scales the images by a single scaling\n",
    "factor so they are of similar brightness. We also set\n",
    "``background_reference=0`` which uses the AIA map as the reference for\n",
    "the background scaling."
   ]
  },
  {
   "cell_type": "code",
   "execution_count": null,
   "id": "931cd428-96dc-40f0-ae26-d4c6a4ee27f9",
   "metadata": {
    "collapsed": false,
    "jupyter": {
     "outputs_hidden": false
    }
   },
   "outputs": [],
   "source": [
    "array, _ = reproject_and_coadd(maps, out_wcs, shape_out,\n",
    "                               input_weights=weights,\n",
    "                               reproject_function=reproject_interp,\n",
    "                               match_background=True,\n",
    "                               background_reference=0)"
   ]
  },
  {
   "cell_type": "markdown",
   "id": "1c8c8d68-afeb-4519-941f-2488ca461cb1",
   "metadata": {},
   "source": [
    "Once again we create a new map from our reprojected array and new header."
   ]
  },
  {
   "cell_type": "code",
   "execution_count": null,
   "id": "ec28ca00-b17c-49d3-a261-9f88f86c10ec",
   "metadata": {},
   "outputs": [],
   "source": [
    "combined_map = sunpy.map.Map(array, header)"
   ]
  },
  {
   "cell_type": "code",
   "execution_count": null,
   "id": "cd82e537-d5ab-4ba5-9211-58745ad41108",
   "metadata": {
    "collapsed": false,
    "jupyter": {
     "outputs_hidden": false
    }
   },
   "outputs": [],
   "source": [
    "fig = plt.figure(figsize=(15, 6))\n",
    "ax = fig.add_subplot(projection=combined_map)\n",
    "im = combined_map.plot(axes=ax, cmap='euvi195', norm=m_aia.plot_settings['norm'],\n",
    "                       clip_interval=(1,99.5)*u.percent,\n",
    "                       title='AIA, STEREO A and B')\n",
    "\n",
    "# Fix the tick formatting\n",
    "lon, lat = ax.coords\n",
    "lon.set_coord_type(\"longitude\")\n",
    "lon.coord_wrap = 180\n",
    "lon.set_format_unit(u.deg)\n",
    "lat.set_coord_type(\"latitude\")\n",
    "lat.set_format_unit(u.deg)\n",
    "\n",
    "# Fix the labeling\n",
    "lon.set_axislabel('Heliographic Longitude', minpad=0.8)\n",
    "lat.set_axislabel('Heliographic Latitude', minpad=0.9)\n",
    "lon.set_ticks(spacing=25*u.deg, color='k')\n",
    "lat.set_ticks(spacing=15*u.deg, color='k')\n",
    "\n",
    "# Reset the view to pixel centers\n",
    "_ = ax.axis((0, shape_out[1], 0, shape_out[0]))\n",
    "\n",
    "# Draw the limb as defined by each spacecraft\n",
    "m_aia.draw_limb(axes=ax, lw=2, color='C0', label='AIA')\n",
    "m_stereo_a.draw_limb(axes=ax, lw=2, color='C1', label='STEREO A')\n",
    "m_stereo_b.draw_limb(axes=ax, lw=2, color='C4', label='STEREO B')\n",
    "\n",
    "# Plot approximate flare position\n",
    "ax.plot_coord(flare_location, ls=' ', marker='x', color='C3', markersize=20)\n",
    "    \n",
    "# Add the legend and colorbar\n",
    "plt.legend(loc=2)\n",
    "plt.colorbar(im, ax=ax)"
   ]
  },
  {
   "cell_type": "code",
   "execution_count": null,
   "id": "937070ac-2b7a-4c54-917a-0e020addee2e",
   "metadata": {},
   "outputs": [],
   "source": []
  }
 ],
 "metadata": {
  "kernelspec": {
   "display_name": "Python [conda env:sphere-workshop]",
   "language": "python",
   "name": "conda-env-sphere-workshop-py"
  },
  "language_info": {
   "codemirror_mode": {
    "name": "ipython",
    "version": 3
   },
   "file_extension": ".py",
   "mimetype": "text/x-python",
   "name": "python",
   "nbconvert_exporter": "python",
   "pygments_lexer": "ipython3",
   "version": "3.10.4"
  }
 },
 "nbformat": 4,
 "nbformat_minor": 5
}
